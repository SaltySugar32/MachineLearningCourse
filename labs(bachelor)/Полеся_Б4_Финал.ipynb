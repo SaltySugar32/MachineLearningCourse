{
  "nbformat": 4,
  "nbformat_minor": 0,
  "metadata": {
    "celltoolbar": "Slideshow",
    "kernelspec": {
      "display_name": "Python 3",
      "language": "python",
      "name": "python3"
    },
    "language_info": {
      "codemirror_mode": {
        "name": "ipython",
        "version": 3
      },
      "file_extension": ".py",
      "mimetype": "text/x-python",
      "name": "python",
      "nbconvert_exporter": "python",
      "pygments_lexer": "ipython3",
      "version": "3.6.2"
    },
    "colab": {
      "provenance": [],
      "collapsed_sections": [
        "s3qWY0M5LA6r",
        "qN-gy60r3Je7",
        "QTj9cUlE2g0R"
      ],
      "include_colab_link": true
    }
  },
  "cells": [
    {
      "cell_type": "markdown",
      "metadata": {
        "id": "view-in-github",
        "colab_type": "text"
      },
      "source": [
        "<a href=\"https://colab.research.google.com/github/SaltySugar32/MachineLearningCourse/blob/main/labs(bachelor)/%D0%9F%D0%BE%D0%BB%D0%B5%D1%81%D1%8F_%D0%914_%D0%A4%D0%B8%D0%BD%D0%B0%D0%BB.ipynb\" target=\"_parent\"><img src=\"https://colab.research.google.com/assets/colab-badge.svg\" alt=\"Open In Colab\"/></a>"
      ]
    },
    {
      "cell_type": "markdown",
      "metadata": {
        "id": "u6OB5vFDhLXH"
      },
      "source": [
        "# Финальное задание\n"
      ]
    },
    {
      "cell_type": "markdown",
      "metadata": {
        "id": "ZMlbTJJqD7iE"
      },
      "source": [
        "Сравнить решающие правила, полученные разными методами машинного обучения (из ваших предыдущих заданий), на основе одной (выбранной вами) обучающей выборки, и определить лучшее. Шаблона в этот раз не будет. Однако, будет ряд требований к результату:\n",
        "- Задание необходимо выполнить в среде Google Colaboratory и прислать на него ссылку.\n",
        "- Задание должно содержать сводную таблицу численных оценок качества каждого метода.\n",
        "- Желательно включить в список исследованных методов Наивный байесовский классификатор.\n",
        "- При выборе лучшего решающего правила должно быть указано подробное обоснование выбора.\n",
        "- Дополнительно оцениваемым элементом задания будет являться использование материала последнего занятия (посвящённого качеству классификации), а также осмысленно применённой визуализации, иллюстрирующей ваш выбор лучшего решающего правила."
      ]
    },
    {
      "cell_type": "markdown",
      "metadata": {
        "id": "s3qWY0M5LA6r"
      },
      "source": [
        "## Библиотеки"
      ]
    },
    {
      "cell_type": "code",
      "metadata": {
        "id": "bv_hSi_zhLXx"
      },
      "source": [
        "import matplotlib.pyplot as plt\n",
        "from matplotlib import gridspec\n",
        "import seaborn as sns\n",
        "import pandas as pd\n",
        "from tqdm.notebook import tqdm\n",
        "\n",
        "from scipy.special import softmax\n",
        "from scipy.spatial.distance import cdist\n",
        "import numpy as np\n",
        "import torch\n",
        "\n",
        "from sklearn.datasets import make_classification, load_iris, load_wine\n",
        "from sklearn.metrics import classification_report\n",
        "from sklearn.model_selection import KFold, ParameterGrid\n",
        "from sklearn.model_selection import train_test_split\n",
        "from sklearn.neighbors import KNeighborsClassifier\n",
        "#окно парзена\n",
        "from sklearn.neighbors import RadiusNeighborsClassifier\n",
        "\n",
        "from sklearn.tree import DecisionTreeClassifier, DecisionTreeRegressor\n",
        "from sklearn.ensemble import RandomForestClassifier\n",
        "\n",
        "from sklearn.preprocessing import StandardScaler\n",
        "from sklearn.svm import SVC, SVR\n",
        "from sklearn.metrics import classification_report\n",
        "from sklearn.model_selection import KFold, ParameterGrid\n",
        "from sklearn.datasets import make_classification, load_iris\n",
        "from sklearn.model_selection import train_test_split\n",
        "\n",
        "from mlxtend.plotting import plot_decision_regions"
      ],
      "execution_count": null,
      "outputs": []
    },
    {
      "cell_type": "code",
      "metadata": {
        "id": "CJzuwB8DhLXN"
      },
      "source": [
        "import warnings\n",
        "warnings.filterwarnings(\"ignore\")"
      ],
      "execution_count": null,
      "outputs": []
    },
    {
      "cell_type": "markdown",
      "metadata": {
        "id": "_06-JFFQ8EIE"
      },
      "source": [
        "## Задание выполнил\n",
        "\n",
        "- Студент: Полеся Виталий\n",
        "\n",
        "- Группа: Б9118-09.03.04прогин\n",
        "\n",
        "--- \n",
        "\n",
        "Выборка данных Balance-Scale Dataset\n",
        "\n",
        "*   Предметная область: Классификация состояния весов\n",
        "*   Задача: классифицировать состояния весов\n",
        "*   Классы: 3 - перевес влево, перевес вправо, сбалансированные весы\n",
        "*   Признаки: 4 - вес левой/правой чаши, длина левого/правого плеча весов\n",
        "*   Объекты: 625\n"
      ]
    },
    {
      "cell_type": "code",
      "source": [
        "# Загрузка выборки \n",
        "dataset_dir =\"https://archive.ics.uci.edu/ml/machine-learning-databases/balance-scale/balance-scale.data\"\n",
        "data = pd.read_csv(dataset_dir, names=[\"class\", \"lw\", \"ld\", \"rw\", \"rd\"])\n",
        "\n",
        "# сделал 2 признака из 4х дефолтных:\n",
        "Xl = np.vstack(data['lw'].multiply(data['ld']))\n",
        "Xr = np.vstack(data['rw'].multiply(data['rd']))\n",
        "\n",
        "Y = data['class'].replace(\"L\", 0).replace(\"R\", 1).replace(\"B\", 2)\n",
        "\n",
        "X_train, X_test, Y_train, Y_test = train_test_split(np.hstack([Xl, Xr]), np.hstack([Y]), \n",
        "                                                    test_size=0.2, \n",
        "                                                    random_state=2)\n",
        "\n",
        "# график\n",
        "plt.scatter(Xl, Xr, c=Y)"
      ],
      "metadata": {
        "colab": {
          "base_uri": "https://localhost:8080/",
          "height": 282
        },
        "id": "A4sinZRVt_sD",
        "outputId": "aa4ab1c3-706b-4a24-d373-3a03211b5192"
      },
      "execution_count": null,
      "outputs": [
        {
          "output_type": "execute_result",
          "data": {
            "text/plain": [
              "<matplotlib.collections.PathCollection at 0x7f6707ecc650>"
            ]
          },
          "metadata": {},
          "execution_count": 35
        },
        {
          "output_type": "display_data",
          "data": {
            "image/png": "[encoded data removed]",
            "text/plain": [
              "<Figure size 432x288 with 1 Axes>"
            ]
          },
          "metadata": {
            "needs_background": "light"
          }
        }
      ]
    },
    {
      "cell_type": "markdown",
      "source": [
        "## Метрические методы"
      ],
      "metadata": {
        "id": "qN-gy60r3Je7"
      }
    },
    {
      "cell_type": "markdown",
      "source": [
        "### Метод k ближ. соседей"
      ],
      "metadata": {
        "id": "BRs3UryDPgoJ"
      }
    },
    {
      "cell_type": "code",
      "source": [
        "print('K\\t', 'Обучение\\t', 'Контроль');\n",
        "\n",
        "models = []\n",
        "for n_neighbors in range(1, 30):\n",
        "    model = KNeighborsClassifier(n_neighbors=n_neighbors)\n",
        "    model.fit(X_train, Y_train)\n",
        "    models.append(model)\n",
        "    print(n_neighbors, '\\t', model.score(X_train, Y_train), end='')\n",
        "    a = str(model.score(X_train, Y_train))\n",
        "    if len(a) < 6:\n",
        "        print('\\t', end='')\n",
        "    print('\\t', model.score(X_test, Y_test))   \n",
        " "
      ],
      "metadata": {
        "id": "hMVcQM3tPsgx",
        "colab": {
          "base_uri": "https://localhost:8080/"
        },
        "outputId": "c05c7989-d7af-461d-af2b-4afdf82fa559"
      },
      "execution_count": null,
      "outputs": [
        {
          "output_type": "stream",
          "name": "stdout",
          "text": [
            "K\t Обучение\t Контроль\n",
            "1 \t 1.0\t\t 0.976\n",
            "2 \t 0.994\t\t 0.992\n",
            "3 \t 0.992\t\t 0.968\n",
            "4 \t 0.992\t\t 0.968\n",
            "5 \t 0.976\t\t 0.936\n",
            "6 \t 0.968\t\t 0.944\n",
            "7 \t 0.95\t\t 0.896\n",
            "8 \t 0.944\t\t 0.92\n",
            "9 \t 0.94\t\t 0.904\n",
            "10 \t 0.95\t\t 0.912\n",
            "11 \t 0.942\t\t 0.92\n",
            "12 \t 0.946\t\t 0.936\n",
            "13 \t 0.95\t\t 0.928\n",
            "14 \t 0.95\t\t 0.928\n",
            "15 \t 0.944\t\t 0.92\n",
            "16 \t 0.942\t\t 0.928\n",
            "17 \t 0.938\t\t 0.928\n",
            "18 \t 0.938\t\t 0.928\n",
            "19 \t 0.942\t\t 0.928\n",
            "20 \t 0.92\t\t 0.896\n",
            "21 \t 0.928\t\t 0.912\n",
            "22 \t 0.92\t\t 0.912\n",
            "23 \t 0.92\t\t 0.912\n",
            "24 \t 0.924\t\t 0.912\n",
            "25 \t 0.924\t\t 0.912\n",
            "26 \t 0.924\t\t 0.912\n",
            "27 \t 0.924\t\t 0.912\n",
            "28 \t 0.924\t\t 0.912\n",
            "29 \t 0.924\t\t 0.912\n"
          ]
        }
      ]
    },
    {
      "cell_type": "markdown",
      "source": [
        "При neighbors = 2 достигаются лучшие показатели долей правильных ответов одновеменно на обучении (0.944) и контроле (0.992)."
      ],
      "metadata": {
        "id": "1WdZpidSzorP"
      }
    },
    {
      "cell_type": "code",
      "source": [
        "# Применение алгоритма классификации\n",
        "model =  KNeighborsClassifier(n_neighbors=2)\n",
        "model.fit(X_train, Y_train)\n",
        "\n",
        "# Accuracy — доля правильных ответов алгоритма\n",
        "print('Train: ', model.score(X_train, Y_train))\n",
        "print('Test : ', model.score(X_test, Y_test))\n",
        "print(classification_report(Y_train, model.predict(X_train)))\n",
        "print(classification_report(Y_test, model.predict(X_test)))"
      ],
      "metadata": {
        "colab": {
          "base_uri": "https://localhost:8080/"
        },
        "id": "ZUis74Fv0agT",
        "outputId": "002bcfb2-c7e6-4af8-97d9-8b70b2ed6bf6"
      },
      "execution_count": null,
      "outputs": [
        {
          "output_type": "stream",
          "name": "stdout",
          "text": [
            "Train:  0.994\n",
            "Test :  0.992\n",
            "              precision    recall  f1-score   support\n",
            "\n",
            "           0       1.00      1.00      1.00       235\n",
            "           1       0.99      1.00      1.00       227\n",
            "           2       1.00      0.92      0.96        38\n",
            "\n",
            "    accuracy                           0.99       500\n",
            "   macro avg       1.00      0.97      0.98       500\n",
            "weighted avg       0.99      0.99      0.99       500\n",
            "\n",
            "              precision    recall  f1-score   support\n",
            "\n",
            "           0       0.98      1.00      0.99        53\n",
            "           1       1.00      1.00      1.00        61\n",
            "           2       1.00      0.91      0.95        11\n",
            "\n",
            "    accuracy                           0.99       125\n",
            "   macro avg       0.99      0.97      0.98       125\n",
            "weighted avg       0.99      0.99      0.99       125\n",
            "\n"
          ]
        }
      ]
    },
    {
      "cell_type": "markdown",
      "source": [
        "### Окно Парзена"
      ],
      "metadata": {
        "id": "gK-DBJVc1USJ"
      }
    },
    {
      "cell_type": "code",
      "source": [
        "print('R\\t', 'Обучение\\t', 'Контроль');\n",
        "\n",
        "models = []\n",
        "for radius in range(1, 30):\n",
        "    model = RadiusNeighborsClassifier(radius=radius)\n",
        "    model.fit(X_train, Y_train)\n",
        "    models.append(model)\n",
        "    print(radius, '\\t', model.score(X_train, Y_train), end='')\n",
        "    a = str(model.score(X_train, Y_train))\n",
        "    if len(a) < 6:\n",
        "        print('\\t', end='')\n",
        "    print('\\t', model.score(X_test, Y_test)) "
      ],
      "metadata": {
        "colab": {
          "base_uri": "https://localhost:8080/"
        },
        "id": "y3-RSoKC1fo6",
        "outputId": "2f92f4c7-bb3c-4ce7-934d-a9744c0cfbc4"
      },
      "execution_count": null,
      "outputs": [
        {
          "output_type": "stream",
          "name": "stdout",
          "text": [
            "R\t Обучение\t Контроль\n",
            "1 \t 0.95\t\t 0.944\n",
            "2 \t 0.934\t\t 0.92\n",
            "3 \t 0.926\t\t 0.92\n",
            "4 \t 0.928\t\t 0.92\n",
            "5 \t 0.924\t\t 0.912\n",
            "6 \t 0.92\t\t 0.912\n",
            "7 \t 0.92\t\t 0.912\n",
            "8 \t 0.922\t\t 0.912\n",
            "9 \t 0.91\t\t 0.912\n",
            "10 \t 0.922\t\t 0.904\n",
            "11 \t 0.922\t\t 0.904\n",
            "12 \t 0.91\t\t 0.888\n",
            "13 \t 0.898\t\t 0.888\n",
            "14 \t 0.866\t\t 0.84\n",
            "15 \t 0.874\t\t 0.856\n",
            "16 \t 0.878\t\t 0.856\n",
            "17 \t 0.862\t\t 0.856\n",
            "18 \t 0.852\t\t 0.8\n",
            "19 \t 0.802\t\t 0.744\n",
            "20 \t 0.794\t\t 0.728\n",
            "21 \t 0.782\t\t 0.664\n",
            "22 \t 0.73\t\t 0.648\n",
            "23 \t 0.672\t\t 0.608\n",
            "24 \t 0.612\t\t 0.536\n",
            "25 \t 0.56\t\t 0.472\n",
            "26 \t 0.516\t\t 0.448\n",
            "27 \t 0.504\t\t 0.432\n",
            "28 \t 0.494\t\t 0.424\n",
            "29 \t 0.48\t\t 0.424\n"
          ]
        }
      ]
    },
    {
      "cell_type": "markdown",
      "source": [
        "При radius = 1 достигаются лучшие показатели долей правильных ответов одновременно на обучении (0.95) и контроле (0.944)"
      ],
      "metadata": {
        "id": "iIZWqy-01i4j"
      }
    },
    {
      "cell_type": "code",
      "source": [
        "# Применение алгоритма классификации\n",
        "model =  RadiusNeighborsClassifier(radius=1)\n",
        "model.fit(X_train, Y_train)\n",
        "\n",
        "# Accuracy — доля правильных ответов алгоритма\n",
        "print('Train: ', model.score(X_train, Y_train))\n",
        "print('Test : ', model.score(X_test, Y_test))\n",
        "print(classification_report(Y_train, model.predict(X_train)))\n",
        "print(classification_report(Y_test, model.predict(X_test)))"
      ],
      "metadata": {
        "colab": {
          "base_uri": "https://localhost:8080/"
        },
        "id": "Z6rcrNK31lA7",
        "outputId": "bc68f970-b841-4e70-883f-f1047d86d742"
      },
      "execution_count": null,
      "outputs": [
        {
          "output_type": "stream",
          "name": "stdout",
          "text": [
            "Train:  0.95\n",
            "Test :  0.944\n",
            "              precision    recall  f1-score   support\n",
            "\n",
            "           0       0.97      0.99      0.98       235\n",
            "           1       0.95      0.99      0.97       227\n",
            "           2       0.81      0.45      0.58        38\n",
            "\n",
            "    accuracy                           0.95       500\n",
            "   macro avg       0.91      0.81      0.84       500\n",
            "weighted avg       0.95      0.95      0.94       500\n",
            "\n",
            "              precision    recall  f1-score   support\n",
            "\n",
            "           0       0.95      1.00      0.97        53\n",
            "           1       0.94      1.00      0.97        61\n",
            "           2       1.00      0.36      0.53        11\n",
            "\n",
            "    accuracy                           0.94       125\n",
            "   macro avg       0.96      0.79      0.82       125\n",
            "weighted avg       0.95      0.94      0.93       125\n",
            "\n"
          ]
        }
      ]
    },
    {
      "cell_type": "markdown",
      "source": [
        "## Логические методы"
      ],
      "metadata": {
        "id": "QTj9cUlE2g0R"
      }
    },
    {
      "cell_type": "markdown",
      "source": [
        "### Алгоритм \"Решающее дерево\"."
      ],
      "metadata": {
        "id": "9KdKwKHx2oFf"
      }
    },
    {
      "cell_type": "code",
      "source": [
        "# Подбор параметров entropy\n",
        "print('N\\t Train\\t Test')\n",
        "for num in range(20):\n",
        "  model = DecisionTreeClassifier(criterion='entropy', max_depth=num+1, random_state=0)\n",
        "  model.fit(X_train, Y_train)\n",
        "  #print(num+1, '\\t', model.score(X_train, Y_train), \"\\t\", model.score(X_test, Y_test))\n",
        "  print(num+1, '\\t', round(model.score(X_train, Y_train), 3), \"\\t\", round(model.score(X_test, Y_test), 3))"
      ],
      "metadata": {
        "colab": {
          "base_uri": "https://localhost:8080/"
        },
        "id": "4aDSG_n335r_",
        "outputId": "e269b5d8-4b06-45ba-cdc6-55fc1909ab1c"
      },
      "execution_count": null,
      "outputs": [
        {
          "output_type": "stream",
          "name": "stdout",
          "text": [
            "N\t Train\t Test\n",
            "1 \t 0.728 \t 0.64\n",
            "2 \t 0.786 \t 0.808\n",
            "3 \t 0.858 \t 0.776\n",
            "4 \t 0.914 \t 0.864\n",
            "5 \t 0.936 \t 0.904\n",
            "6 \t 0.964 \t 0.904\n",
            "7 \t 0.976 \t 0.96\n",
            "8 \t 1.0 \t 0.992\n",
            "9 \t 1.0 \t 0.992\n",
            "10 \t 1.0 \t 0.992\n",
            "11 \t 1.0 \t 0.992\n",
            "12 \t 1.0 \t 0.992\n",
            "13 \t 1.0 \t 0.992\n",
            "14 \t 1.0 \t 0.992\n",
            "15 \t 1.0 \t 0.992\n",
            "16 \t 1.0 \t 0.992\n",
            "17 \t 1.0 \t 0.992\n",
            "18 \t 1.0 \t 0.992\n",
            "19 \t 1.0 \t 0.992\n",
            "20 \t 1.0 \t 0.992\n"
          ]
        }
      ]
    },
    {
      "cell_type": "code",
      "source": [
        "# Подбор параметров gini\n",
        "print('N\\t Train\\t Test')\n",
        "for num in range(20):\n",
        "  model = DecisionTreeClassifier(criterion='gini', max_depth=num+1, random_state=0)\n",
        "  model.fit(X_train, Y_train)\n",
        "  #print(num+1, '\\t', model.score(X_train, Y_train), \"\\t\", model.score(X_test, Y_test))\n",
        "  print(num+1, '\\t', round(model.score(X_train, Y_train), 3), \"\\t\", round(model.score(X_test, Y_test), 3))\n"
      ],
      "metadata": {
        "colab": {
          "base_uri": "https://localhost:8080/"
        },
        "id": "L-alA-Y-4Nxu",
        "outputId": "c0808e68-12c1-444d-f755-91601e56a854"
      },
      "execution_count": null,
      "outputs": [
        {
          "output_type": "stream",
          "name": "stdout",
          "text": [
            "N\t Train\t Test\n",
            "1 \t 0.728 \t 0.64\n",
            "2 \t 0.832 \t 0.8\n",
            "3 \t 0.88 \t 0.824\n",
            "4 \t 0.91 \t 0.896\n",
            "5 \t 0.95 \t 0.952\n",
            "6 \t 0.986 \t 0.984\n",
            "7 \t 0.994 \t 0.992\n",
            "8 \t 1.0 \t 0.992\n",
            "9 \t 1.0 \t 0.992\n",
            "10 \t 1.0 \t 0.992\n",
            "11 \t 1.0 \t 0.992\n",
            "12 \t 1.0 \t 0.992\n",
            "13 \t 1.0 \t 0.992\n",
            "14 \t 1.0 \t 0.992\n",
            "15 \t 1.0 \t 0.992\n",
            "16 \t 1.0 \t 0.992\n",
            "17 \t 1.0 \t 0.992\n",
            "18 \t 1.0 \t 0.992\n",
            "19 \t 1.0 \t 0.992\n",
            "20 \t 1.0 \t 0.992\n"
          ]
        }
      ]
    },
    {
      "cell_type": "markdown",
      "source": [
        "Результаты: \n",
        "  * Gini и entropy показывают схожие результаты, однако при (max_depth<8) у gini лучше показатели.\n",
        "  * лучший показатель доли правильных ответов на обучении = 1.0 при max_depth=8\n",
        "  * лучший показатель доли правильных ответов на контроле = 0.992 при max_depth=8\n",
        "  \n",
        "Вывод: \n",
        "Лучшее сочетание параметров: criterion=gini, max_depth=8"
      ],
      "metadata": {
        "id": "Y0oNOhsz4zIz"
      }
    },
    {
      "cell_type": "code",
      "source": [
        "# Применение алгоритма классификации\n",
        "\n",
        "# Критерии информативности: энтропийный (entroy) и Джини (gini)\n",
        "model = DecisionTreeClassifier(criterion='gini', max_depth=8, random_state=0)\n",
        "model.fit(X_train, Y_train)\n",
        "\n",
        "# Accuracy — доля правильных ответов алгоритма\n",
        "print('Train: ', model.score(X_train, Y_train))\n",
        "print('Test : ', model.score(X_test, Y_test))\n",
        "print(classification_report(Y_test, model.predict(X_test)))\n",
        "print(classification_report(Y_train, model.predict(X_train)))"
      ],
      "metadata": {
        "colab": {
          "base_uri": "https://localhost:8080/"
        },
        "id": "tRS9guB34jI2",
        "outputId": "ae9579b4-33f7-42ac-893c-f4f1dd005c3e"
      },
      "execution_count": null,
      "outputs": [
        {
          "output_type": "stream",
          "name": "stdout",
          "text": [
            "Train:  1.0\n",
            "Test :  0.992\n",
            "              precision    recall  f1-score   support\n",
            "\n",
            "           0       0.98      1.00      0.99        53\n",
            "           1       1.00      1.00      1.00        61\n",
            "           2       1.00      0.91      0.95        11\n",
            "\n",
            "    accuracy                           0.99       125\n",
            "   macro avg       0.99      0.97      0.98       125\n",
            "weighted avg       0.99      0.99      0.99       125\n",
            "\n",
            "              precision    recall  f1-score   support\n",
            "\n",
            "           0       1.00      1.00      1.00       235\n",
            "           1       1.00      1.00      1.00       227\n",
            "           2       1.00      1.00      1.00        38\n",
            "\n",
            "    accuracy                           1.00       500\n",
            "   macro avg       1.00      1.00      1.00       500\n",
            "weighted avg       1.00      1.00      1.00       500\n",
            "\n"
          ]
        }
      ]
    },
    {
      "cell_type": "code",
      "source": [
        "fig, gs = plt.figure(figsize=(9,4)), gridspec.GridSpec(1, 2)\n",
        "\n",
        "ax = []\n",
        "for i in range(2):\n",
        "    ax.append(fig.add_subplot(gs[i]))\n",
        "\n",
        "print(\"Train\\t\\t\\t\\t Test\")\n",
        "plt.xlabel('Признак1 (lw*ld)')\n",
        "plt.ylabel('Признак2 (rw*rd)')\n",
        "plot_decision_regions(X_train, Y_train, clf=model, ax = ax[0])\n",
        "plot_decision_regions(X_test, Y_test, model, ax=ax[1])\n",
        "plt.show()"
      ],
      "metadata": {
        "colab": {
          "base_uri": "https://localhost:8080/",
          "height": 296
        },
        "id": "VN4BqXya8ikE",
        "outputId": "954ffd9d-bbe9-4fbd-82d9-cc2c3b81d784"
      },
      "execution_count": null,
      "outputs": [
        {
          "output_type": "stream",
          "name": "stdout",
          "text": [
            "Train\t\t\t\t Test\n"
          ]
        },
        {
          "output_type": "display_data",
          "data": {
            "image/png": "[encoded data removed]",
            "text/plain": [
              "<Figure size 648x288 with 2 Axes>"
            ]
          },
          "metadata": {
            "needs_background": "light"
          }
        }
      ]
    },
    {
      "cell_type": "markdown",
      "source": [
        "### Алгоритм \"Случайный лес\" (ансамбль деревьев)."
      ],
      "metadata": {
        "id": "HnYcIjyr851i"
      }
    },
    {
      "cell_type": "code",
      "source": [
        "#Подбор n_estimators\n",
        "\n",
        "models = []\n",
        "scores_train = []\n",
        "scores_test = []\n",
        "n_estimators = list(range(1, 21))\n",
        "for estimators in n_estimators:\n",
        "    model = RandomForestClassifier(criterion='gini', n_estimators=estimators,\n",
        "                                   random_state=0)\n",
        "    model.fit(X_train, Y_train)\n",
        "    models.append(model)\n",
        "    scores_test.append(model.score(X_test, Y_test))\n",
        "    scores_train.append(model.score(X_train, Y_train))\n",
        "\n",
        "plt.plot(n_estimators, scores_train, label='Train')\n",
        "plt.plot(n_estimators, scores_test, label='Test')\n",
        "\n",
        "plt.legend(loc='best')\n",
        "plt.grid()\n",
        "plt.show()"
      ],
      "metadata": {
        "colab": {
          "base_uri": "https://localhost:8080/",
          "height": 265
        },
        "id": "ZzJvUv_h9LIj",
        "outputId": "e66b9df3-ff2e-4d8d-f031-d7a15fb74494"
      },
      "execution_count": null,
      "outputs": [
        {
          "output_type": "display_data",
          "data": {
            "image/png": "[encoded data removed]",
            "text/plain": [
              "<Figure size 432x288 with 1 Axes>"
            ]
          },
          "metadata": {
            "needs_background": "light"
          }
        }
      ]
    },
    {
      "cell_type": "markdown",
      "source": [
        "* При n_estimators= 16 достигаются лучшие показатели долей правильных ответов на контроле (0.992) и обучении (1.0)"
      ],
      "metadata": {
        "id": "7oyd16OZ9Qf2"
      }
    },
    {
      "cell_type": "code",
      "source": [
        "# Применение алгоритма классификации\n",
        "\n",
        "# Критерии информативности: энтропийный (entroy) и Джини (gini)\n",
        "model = RandomForestClassifier(criterion='gini', n_estimators=19,\n",
        "                               max_depth=9, random_state=0, max_features=2)\n",
        "model.fit(X_train, Y_train)\n",
        "\n",
        "# Accuracy — доля правильных ответов алгоритма\n",
        "print('Train: ', model.score(X_train, Y_train))\n",
        "print('Test : ', model.score(X_test, Y_test))\n",
        "print(classification_report(Y_test, model.predict(X_test)))\n",
        "print(classification_report(Y_train, model.predict(X_train)))"
      ],
      "metadata": {
        "colab": {
          "base_uri": "https://localhost:8080/"
        },
        "id": "JOr8bvY691ab",
        "outputId": "7805ff4b-5a6a-490f-c980-1a763c5e64f9"
      },
      "execution_count": null,
      "outputs": [
        {
          "output_type": "stream",
          "name": "stdout",
          "text": [
            "Train:  0.998\n",
            "Test :  0.968\n",
            "              precision    recall  f1-score   support\n",
            "\n",
            "           0       0.98      1.00      0.99        53\n",
            "           1       1.00      0.95      0.97        61\n",
            "           2       0.77      0.91      0.83        11\n",
            "\n",
            "    accuracy                           0.97       125\n",
            "   macro avg       0.92      0.95      0.93       125\n",
            "weighted avg       0.97      0.97      0.97       125\n",
            "\n",
            "              precision    recall  f1-score   support\n",
            "\n",
            "           0       1.00      1.00      1.00       235\n",
            "           1       1.00      1.00      1.00       227\n",
            "           2       0.97      1.00      0.99        38\n",
            "\n",
            "    accuracy                           1.00       500\n",
            "   macro avg       0.99      1.00      0.99       500\n",
            "weighted avg       1.00      1.00      1.00       500\n",
            "\n"
          ]
        }
      ]
    },
    {
      "cell_type": "markdown",
      "source": [
        "## Линейные методы"
      ],
      "metadata": {
        "id": "o4t_T-OYEH0E"
      }
    },
    {
      "cell_type": "markdown",
      "metadata": {
        "id": "MMnL0LRwUWwf"
      },
      "source": [
        "### Метод опорных векторов (SVM)"
      ]
    },
    {
      "cell_type": "markdown",
      "metadata": {
        "id": "WgbiCav_ZjrQ"
      },
      "source": [
        "### Зависимость результата от константы C"
      ]
    },
    {
      "cell_type": "code",
      "source": [
        "# Подбор значения гиперпараметра регуляризации C \n",
        "\n",
        "for i in np.arange(0.09, 0.1, 0.001):\n",
        "  model = SVC(kernel=\"linear\", C=i)\n",
        "  model.fit(X_train, Y_train)\n",
        "  train_score = model.score(X_train, Y_train)\n",
        "  test_score = model.score(X_test, Y_test)\n",
        "  #if train_score == 1 and test_score == 1:\n",
        "  print(i,'\\tTrain: ', train_score, '\\tTest : ', test_score)\n",
        "  #break"
      ],
      "metadata": {
        "colab": {
          "base_uri": "https://localhost:8080/"
        },
        "id": "ZnCh1wXCJ0oC",
        "outputId": "ef3b0cbf-4908-4cfe-a0ec-67247aaa6f6a"
      },
      "execution_count": null,
      "outputs": [
        {
          "output_type": "stream",
          "name": "stdout",
          "text": [
            "0.09 \tTrain:  0.978 \tTest :  0.976\n",
            "0.091 \tTrain:  0.992 \tTest :  0.968\n",
            "0.092 \tTrain:  0.958 \tTest :  0.944\n",
            "0.093 \tTrain:  0.996 \tTest :  1.0\n",
            "0.094 \tTrain:  0.958 \tTest :  0.944\n",
            "0.095 \tTrain:  0.958 \tTest :  0.944\n",
            "0.096 \tTrain:  1.0 \tTest :  1.0\n",
            "0.097 \tTrain:  1.0 \tTest :  1.0\n",
            "0.098 \tTrain:  1.0 \tTest :  1.0\n",
            "0.099 \tTrain:  1.0 \tTest :  1.0\n",
            "0.1 \tTrain:  1.0 \tTest :  1.0\n"
          ]
        }
      ]
    },
    {
      "cell_type": "markdown",
      "source": [
        "Как можно увидеть, при с = 0.096, достигается ~первые лучшие показатели на обучении и контроле. Далее для удобства было принято c=0.096 как лучшее значение гиперпараметра."
      ],
      "metadata": {
        "id": "tByAm84qLFUV"
      }
    },
    {
      "cell_type": "code",
      "source": [
        "models = []\n",
        "scores_train = []\n",
        "scores_test = []\n",
        "C_values = list(np.arange(0.01, 0.2, 0.01))\n",
        "for local_C in C_values:\n",
        "    model = SVC(kernel=\"linear\", C=local_C)\n",
        "    model.fit(X_train, Y_train)\n",
        "    models.append(model)\n",
        "    scores_test.append(model.score(X_test, Y_test))\n",
        "    scores_train.append(model.score(X_train, Y_train))\n",
        "\n",
        "plt.plot(C_values, scores_train, label='Train')\n",
        "plt.plot(C_values, scores_test, label='Test')\n",
        "\n",
        "plt.legend(loc='best')\n",
        "plt.grid()\n",
        "plt.show()"
      ],
      "metadata": {
        "colab": {
          "base_uri": "https://localhost:8080/",
          "height": 265
        },
        "id": "2_r_mi8uLro6",
        "outputId": "18324f22-14dc-49a5-8f00-eea742aa9849"
      },
      "execution_count": null,
      "outputs": [
        {
          "output_type": "display_data",
          "data": {
            "image/png": "[encoded data removed]",
            "text/plain": [
              "<Figure size 432x288 with 1 Axes>"
            ]
          },
          "metadata": {
            "needs_background": "light"
          }
        }
      ]
    },
    {
      "cell_type": "code",
      "source": [
        "# Зависимость от ядра\n",
        "\n",
        "models = []\n",
        "scores_train = []\n",
        "scores_test = []\n",
        "kernels = ('linear', 'poly', 'rbf', 'sigmoid')\n",
        "for local_kernel in kernels:\n",
        "    model = SVC(kernel=local_kernel, C=0.096)\n",
        "    model.fit(X_train, Y_train)\n",
        "    models.append(model)\n",
        "    scores_test.append(model.score(X_test, Y_test))\n",
        "    scores_train.append(model.score(X_train, Y_train))\n",
        "\n",
        "plt.plot(kernels, scores_train, label='Train')\n",
        "plt.plot(kernels, scores_test, label='Test')\n",
        "\n",
        "plt.legend(loc='best')\n",
        "plt.grid()\n",
        "plt.show()"
      ],
      "metadata": {
        "colab": {
          "base_uri": "https://localhost:8080/",
          "height": 265
        },
        "id": "KJyiUDG5N-iB",
        "outputId": "a90eaf75-d79b-4160-e2bd-f7be80d6870e"
      },
      "execution_count": null,
      "outputs": [
        {
          "output_type": "display_data",
          "data": {
            "image/png": "[encoded data removed]",
            "text/plain": [
              "<Figure size 432x288 with 1 Axes>"
            ]
          },
          "metadata": {
            "needs_background": "light"
          }
        }
      ]
    },
    {
      "cell_type": "markdown",
      "source": [
        "linear оказался лучшим (доли правильных ответов на контроле = 1.0, на обучении = 1.0)"
      ],
      "metadata": {
        "id": "perzgsJsO4V2"
      }
    },
    {
      "cell_type": "code",
      "source": [
        "# Применение алгоритма классификации\n",
        "model = SVC(kernel=\"linear\", C=0.096)\n",
        "model.fit(X_train, Y_train)\n",
        "\n",
        "# Accuracy — доля правильных ответов алгоритма\n",
        "print('Train: ', model.score(X_train, Y_train))\n",
        "print('Test : ', model.score(X_test, Y_test))\n",
        "print(classification_report(Y_train, model.predict(X_train)))\n",
        "print(classification_report(Y_test, model.predict(X_test)))"
      ],
      "metadata": {
        "colab": {
          "base_uri": "https://localhost:8080/"
        },
        "id": "UzjZe7B7QqlA",
        "outputId": "ad37587c-a728-4813-e009-8defc5ecc823"
      },
      "execution_count": null,
      "outputs": [
        {
          "output_type": "stream",
          "name": "stdout",
          "text": [
            "Train:  1.0\n",
            "Test :  1.0\n",
            "              precision    recall  f1-score   support\n",
            "\n",
            "           0       1.00      1.00      1.00       235\n",
            "           1       1.00      1.00      1.00       227\n",
            "           2       1.00      1.00      1.00        38\n",
            "\n",
            "    accuracy                           1.00       500\n",
            "   macro avg       1.00      1.00      1.00       500\n",
            "weighted avg       1.00      1.00      1.00       500\n",
            "\n",
            "              precision    recall  f1-score   support\n",
            "\n",
            "           0       1.00      1.00      1.00        53\n",
            "           1       1.00      1.00      1.00        61\n",
            "           2       1.00      1.00      1.00        11\n",
            "\n",
            "    accuracy                           1.00       125\n",
            "   macro avg       1.00      1.00      1.00       125\n",
            "weighted avg       1.00      1.00      1.00       125\n",
            "\n"
          ]
        }
      ]
    },
    {
      "cell_type": "markdown",
      "source": [
        "## Заключение"
      ],
      "metadata": {
        "id": "syCGygOZPEOE"
      }
    },
    {
      "cell_type": "markdown",
      "source": [
        "Среди всех рассмотренных методов лучшим оказался:\n",
        "\n",
        "Линейный метод. Метод опорных объектов(SVM)\n",
        "\n",
        "С ядром linear достигается лучшие показатели долей правильных ответов:\n",
        "- Качество на обучающей выборке: 1.0 при c=0.096\n",
        "- Качество на контрольной выборке: 1.0 при c=0.096\n"
      ],
      "metadata": {
        "id": "2TNJSPEUPIlq"
      }
    }
  ]
}