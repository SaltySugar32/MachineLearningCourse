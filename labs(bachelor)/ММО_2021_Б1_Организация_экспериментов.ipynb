{
  "nbformat": 4,
  "nbformat_minor": 0,
  "metadata": {
    "celltoolbar": "Slideshow",
    "kernelspec": {
      "display_name": "Python 3",
      "language": "python",
      "name": "python3"
    },
    "language_info": {
      "codemirror_mode": {
        "name": "ipython",
        "version": 3
      },
      "file_extension": ".py",
      "mimetype": "text/x-python",
      "name": "python",
      "nbconvert_exporter": "python",
      "pygments_lexer": "ipython3",
      "version": "3.6.2"
    },
    "colab": {
      "provenance": [],
      "collapsed_sections": [],
      "include_colab_link": true
    }
  },
  "cells": [
    {
      "cell_type": "markdown",
      "metadata": {
        "id": "view-in-github",
        "colab_type": "text"
      },
      "source": [
        "<a href=\"https://colab.research.google.com/github/SaltySugar32/MachineLearningCourse/blob/main/labs(bachelor)/%D0%9C%D0%9C%D0%9E_2021_%D0%911_%D0%9E%D1%80%D0%B3%D0%B0%D0%BD%D0%B8%D0%B7%D0%B0%D1%86%D0%B8%D1%8F_%D1%8D%D0%BA%D1%81%D0%BF%D0%B5%D1%80%D0%B8%D0%BC%D0%B5%D0%BD%D1%82%D0%BE%D0%B2.ipynb\" target=\"_parent\"><img src=\"https://colab.research.google.com/assets/colab-badge.svg\" alt=\"Open In Colab\"/></a>"
      ]
    },
    {
      "cell_type": "markdown",
      "metadata": {
        "id": "oq3GeRTpjGSF"
      },
      "source": [
        "# Организация экспериментов по машинному обучению\n",
        "\n",
        "1. Задание необходимо выполнить в среде Google Colaboratory.\n",
        "2. Использовать выбранную и закреплённую за вами выборку данных (датасет).\n",
        "3. Разбить выборку на обучающую и контрольную в пропорциях 80%-20% или 70%-30%.\n",
        "4. Для метода \"К ближайших соседей\" настроить параметр \"Число ближайших соседей\" (К).\n",
        "5. Заполнить финальный раздел \"Заключение\".\n",
        "6. В качестве результата задания в Teams приложить ссылку на данный расшаренный файл."
      ]
    },
    {
      "cell_type": "markdown",
      "metadata": {
        "id": "cD3MLjdteSDl"
      },
      "source": [
        "##Материалы для изучения\n",
        "\n",
        "* [Машинное обучение (курс лекций, К.В. Воронцов). Метрические методы](http://www.machinelearning.ru/wiki/index.php?title=%D0%9C%D0%B0%D1%88%D0%B8%D0%BD%D0%BD%D0%BE%D0%B5_%D0%BE%D0%B1%D1%83%D1%87%D0%B5%D0%BD%D0%B8%D0%B5_(%D0%BA%D1%83%D1%80%D1%81_%D0%BB%D0%B5%D0%BA%D1%86%D0%B8%D0%B9,_%D0%9A.%D0%92.%D0%92%D0%BE%D1%80%D0%BE%D0%BD%D1%86%D0%BE%D0%B2)#.D0.9C.D0.B5.D1.82.D1.80.D0.B8.D1.87.D0.B5.D1.81.D0.BA.D0.B8.D0.B5_.D0.BC.D0.B5.D1.82.D0.BE.D0.B4.D1.8B_.D0.BA.D0.BB.D0.B0.D1.81.D1.81.D0.B8.D1.84.D0.B8.D0.BA.D0.B0.D1.86.D0.B8.D0.B8_.D0.B8_.D1.80.D0.B5.D0.B3.D1.80.D0.B5.D1.81.D1.81.D0.B8.D0.B8)"
      ]
    },
    {
      "cell_type": "markdown",
      "metadata": {
        "id": "-MTdRn9SjGSN"
      },
      "source": [
        "## Библиотеки"
      ]
    },
    {
      "cell_type": "code",
      "metadata": {
        "id": "hn_j94qCjGSP"
      },
      "source": [
        "import matplotlib.pyplot as plt\n",
        "from matplotlib import gridspec\n",
        "import seaborn as sns\n",
        "import pandas as pd\n",
        "from tqdm.notebook import tqdm\n",
        "\n",
        "from scipy.special import softmax\n",
        "from scipy.spatial.distance import cdist\n",
        "import numpy as np\n",
        "import torch\n",
        "\n",
        "from sklearn.datasets import make_classification, load_iris, load_wine\n",
        "from sklearn.metrics import classification_report\n",
        "from sklearn.model_selection import KFold, ParameterGrid\n",
        "from sklearn.model_selection import train_test_split\n",
        "from sklearn.neighbors import KNeighborsClassifier\n",
        "\n",
        "from mlxtend.plotting import plot_decision_regions"
      ],
      "execution_count": null,
      "outputs": []
    },
    {
      "cell_type": "code",
      "metadata": {
        "id": "vLJGVU6weqXd"
      },
      "source": [
        "import warnings\n",
        "warnings.filterwarnings(\"ignore\")"
      ],
      "execution_count": null,
      "outputs": []
    },
    {
      "cell_type": "markdown",
      "metadata": {
        "id": "XVSB9gdXg-5m"
      },
      "source": [
        "## Подключение выборки данных"
      ]
    },
    {
      "cell_type": "code",
      "metadata": {
        "id": "uG2sEfrQg_H1",
        "colab": {
          "base_uri": "https://localhost:8080/"
        },
        "outputId": "c7906257-018f-43f7-cae6-4bc1594e147a"
      },
      "source": [
        "dataset_dir =\"https://archive.ics.uci.edu/ml/machine-learning-databases/balance-scale/balance-scale.data\"\n",
        "data = pd.read_csv(dataset_dir, names=[\"class\", \"lw\", \"ld\", \"rw\", \"rd\"])\n",
        "#print(data)\n",
        "X = data[[\"lw\", \"ld\", \"rw\", \"rd\"]]\n",
        "Y = data[[\"class\"]]\n",
        "X_train, X_test, Y_train, Y_test = train_test_split(X, Y,  \n",
        "                                                    test_size=0.2, \n",
        "                                                    random_state=0)\n",
        "print(X_train)"
      ],
      "execution_count": null,
      "outputs": [
        {
          "output_type": "stream",
          "name": "stdout",
          "text": [
            "     lw  ld  rw  rd\n",
            "577   5   4   1   3\n",
            "312   3   3   3   3\n",
            "122   1   5   5   3\n",
            "569   5   3   4   5\n",
            "509   5   1   2   5\n",
            "..   ..  ..  ..  ..\n",
            "277   3   2   1   3\n",
            "9     1   1   2   5\n",
            "359   3   5   2   5\n",
            "192   2   3   4   3\n",
            "559   5   3   2   5\n",
            "\n",
            "[500 rows x 4 columns]\n"
          ]
        }
      ]
    },
    {
      "cell_type": "markdown",
      "metadata": {
        "id": "SZ-J8Gc9jGS7"
      },
      "source": [
        "## Метод ближайшего соседа"
      ]
    },
    {
      "cell_type": "code",
      "metadata": {
        "id": "gpQOhoZyjGS_",
        "colab": {
          "base_uri": "https://localhost:8080/"
        },
        "outputId": "9ac0f457-ab5f-4e1d-876f-2db4b3493f11"
      },
      "source": [
        "model = KNeighborsClassifier(n_neighbors=1,)\n",
        "model.fit(X_train, Y_train)"
      ],
      "execution_count": null,
      "outputs": [
        {
          "output_type": "execute_result",
          "data": {
            "text/plain": [
              "KNeighborsClassifier(algorithm='auto', leaf_size=30, metric='minkowski',\n",
              "                     metric_params=None, n_jobs=None, n_neighbors=1, p=2,\n",
              "                     weights='uniform')"
            ]
          },
          "metadata": {},
          "execution_count": 8
        }
      ]
    },
    {
      "cell_type": "code",
      "metadata": {
        "id": "ELCW-Yv2jqrR",
        "colab": {
          "base_uri": "https://localhost:8080/"
        },
        "outputId": "b768e7fc-be81-45a9-fd23-1c5c986c8639"
      },
      "source": [
        "# Доля правильных ответов метода\n",
        "print('Обучающая выборка   : ', model.score(X_train, Y_train))\n",
        "print('Контрольная выборка : ', model.score(X_test, Y_test))"
      ],
      "execution_count": null,
      "outputs": [
        {
          "output_type": "stream",
          "name": "stdout",
          "text": [
            "Обучающая выборка   :  1.0\n",
            "Контрольная выборка :  0.768\n"
          ]
        }
      ]
    },
    {
      "cell_type": "markdown",
      "metadata": {
        "id": "KakfzTcrjGTX"
      },
      "source": [
        "## Метод k-ближайших соседей"
      ]
    },
    {
      "cell_type": "code",
      "metadata": {
        "id": "rE-02uUAjGTZ",
        "colab": {
          "base_uri": "https://localhost:8080/"
        },
        "outputId": "e1669eff-d88b-4f0b-f096-10b81fee4fc0"
      },
      "source": [
        "print('K\\t', 'Обучение\\t', 'Контроль');\n",
        "\n",
        "models = []\n",
        "for n_neighbors in range(1, 30):\n",
        "    model = KNeighborsClassifier(n_neighbors=n_neighbors)\n",
        "    model.fit(X_train, Y_train)\n",
        "    models.append(model)\n",
        "    print(n_neighbors, '\\t', model.score(X_train, Y_train), end='')\n",
        "    a = str(model.score(X_train, Y_train))\n",
        "    if len(a) < 6:\n",
        "        print('\\t', end='')\n",
        "    print('\\t', model.score(X_test, Y_test))    \n"
      ],
      "execution_count": null,
      "outputs": [
        {
          "output_type": "stream",
          "name": "stdout",
          "text": [
            "K\t Обучение\t Контроль\n",
            "1 \t 1.0\t\t 0.768\n",
            "2 \t 0.86\t\t 0.696\n",
            "3 \t 0.902\t\t 0.784\n",
            "4 \t 0.818\t\t 0.768\n",
            "5 \t 0.844\t\t 0.816\n",
            "6 \t 0.87\t\t 0.816\n",
            "7 \t 0.896\t\t 0.88\n",
            "8 \t 0.888\t\t 0.88\n",
            "9 \t 0.902\t\t 0.896\n",
            "10 \t 0.888\t\t 0.904\n",
            "11 \t 0.902\t\t 0.912\n",
            "12 \t 0.904\t\t 0.88\n",
            "13 \t 0.908\t\t 0.904\n",
            "14 \t 0.902\t\t 0.928\n",
            "15 \t 0.898\t\t 0.92\n",
            "16 \t 0.902\t\t 0.928\n",
            "17 \t 0.9\t\t 0.936\n",
            "18 \t 0.898\t\t 0.928\n",
            "19 \t 0.89\t\t 0.928\n",
            "20 \t 0.888\t\t 0.92\n",
            "21 \t 0.888\t\t 0.952\n",
            "22 \t 0.888\t\t 0.936\n",
            "23 \t 0.888\t\t 0.936\n",
            "24 \t 0.894\t\t 0.936\n",
            "25 \t 0.892\t\t 0.936\n",
            "26 \t 0.892\t\t 0.936\n",
            "27 \t 0.888\t\t 0.936\n",
            "28 \t 0.888\t\t 0.928\n",
            "29 \t 0.884\t\t 0.928\n"
          ]
        }
      ]
    },
    {
      "cell_type": "markdown",
      "metadata": {
        "id": "tgIEX3aWfNVs"
      },
      "source": [
        "---\n",
        "\n",
        "\n",
        "##Заключение\n",
        "\n",
        "###1. Выборка данных (датасет)\n",
        "\n",
        "* Ссылка на выборку: https://archive.ics.uci.edu/ml/machine-learning-databases/balance-scale/balance-scale.data\n",
        "* Описание выборки: Датасет различных весов с параметрами чаш - (вес и длина плеча правой/левой чаши)\n",
        "* Количество классов: 3\n",
        "* Количество признаков: 4\n",
        "* Количество объектов: 625\n",
        "\n",
        "###2. Метод \"К ближайших соседей (KNN)\"\n",
        "\n",
        "* Лучшее количество соседей: 13  (показывает лучшие доли правильных ответов в контроле/обучении)\n",
        "* Процент ошибок на обучении: (1-0.908)100% = 0.092*100% = 9.2%\n",
        "* Процент ошибок на контроле: (1-0.904)100% = 0.096*100% = 9.6%"
      ]
    }
  ]
}