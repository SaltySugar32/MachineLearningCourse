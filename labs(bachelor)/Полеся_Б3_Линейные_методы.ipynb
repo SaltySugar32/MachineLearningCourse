{
  "nbformat": 4,
  "nbformat_minor": 0,
  "metadata": {
    "celltoolbar": "Slideshow",
    "kernelspec": {
      "display_name": "Python 3",
      "language": "python",
      "name": "python3"
    },
    "language_info": {
      "codemirror_mode": {
        "name": "ipython",
        "version": 3
      },
      "file_extension": ".py",
      "mimetype": "text/x-python",
      "name": "python",
      "nbconvert_exporter": "python",
      "pygments_lexer": "ipython3",
      "version": "3.6.2"
    },
    "colab": {
      "provenance": [],
      "collapsed_sections": [
        "gRP1j4gWbizg",
        "ZMlbTJJqD7iE",
        "_06-JFFQ8EIE"
      ],
      "include_colab_link": true
    }
  },
  "cells": [
    {
      "cell_type": "markdown",
      "metadata": {
        "id": "view-in-github",
        "colab_type": "text"
      },
      "source": [
        "<a href=\"https://colab.research.google.com/github/SaltySugar32/MachineLearningCourse/blob/main/labs(bachelor)/%D0%9F%D0%BE%D0%BB%D0%B5%D1%81%D1%8F_%D0%913_%D0%9B%D0%B8%D0%BD%D0%B5%D0%B9%D0%BD%D1%8B%D0%B5_%D0%BC%D0%B5%D1%82%D0%BE%D0%B4%D1%8B.ipynb\" target=\"_parent\"><img src=\"https://colab.research.google.com/assets/colab-badge.svg\" alt=\"Open In Colab\"/></a>"
      ]
    },
    {
      "cell_type": "markdown",
      "metadata": {
        "id": "u6OB5vFDhLXH"
      },
      "source": [
        "# Линейные методы классификации"
      ]
    },
    {
      "cell_type": "markdown",
      "metadata": {
        "id": "gRP1j4gWbizg"
      },
      "source": [
        "##Материалы для изучения\n",
        "\n",
        "* [Машинное обучение (курс лекций, К.В. Воронцов). Метод опорных векторов](http://www.machinelearning.ru/wiki/index.php?title=%D0%9C%D0%B0%D1%88%D0%B8%D0%BD%D0%BD%D0%BE%D0%B5_%D0%BE%D0%B1%D1%83%D1%87%D0%B5%D0%BD%D0%B8%D0%B5_(%D0%BA%D1%83%D1%80%D1%81_%D0%BB%D0%B5%D0%BA%D1%86%D0%B8%D0%B9,_%D0%9A.%D0%92.%D0%92%D0%BE%D1%80%D0%BE%D0%BD%D1%86%D0%BE%D0%B2)#.D0.9C.D0.B5.D1.82.D0.BE.D0.B4_.D0.BE.D0.BF.D0.BE.D1.80.D0.BD.D1.8B.D1.85_.D0.B2.D0.B5.D0.BA.D1.82.D0.BE.D1.80.D0.BE.D0.B2)\n",
        "* [Руководство по настройке параметров SVM](https://www.machinelearningmastery.ru/a-guide-to-svm-parameter-tuning-8bfe6b8a452c/)"
      ]
    },
    {
      "cell_type": "markdown",
      "metadata": {
        "id": "ZMlbTJJqD7iE"
      },
      "source": [
        "## Задание\n",
        "1. Задание необходимо выполнить в среде Google Colaboratory.\n",
        "2. Использовать выборку из предыдущих заданий или с https://archive.ics.uci.edu/ml/datasets.php.\n",
        "3. Разбить выборку на обучающую и контрольную в пропорциях 80%-20% или 70%-30%.\n",
        "4. Для алгоритма \"**Метод опорных векторов (SVM)**\" настроить параметры:\n",
        "* *гиперпараметр регуляризации C* (от 0.001 до 1К),\n",
        "* *ядро*: линейное (linear), ядро RBF (rbf), полиномиальное (poly), сигмоидальное (sigmoid).\n"
      ]
    },
    {
      "cell_type": "markdown",
      "metadata": {
        "id": "s3qWY0M5LA6r"
      },
      "source": [
        "## Библиотеки"
      ]
    },
    {
      "cell_type": "code",
      "metadata": {
        "id": "bv_hSi_zhLXx"
      },
      "source": [
        "import matplotlib.pyplot as plt\n",
        "from matplotlib import gridspec\n",
        "import seaborn as sns\n",
        "import pandas as pd\n",
        "from tqdm.notebook import tqdm\n",
        "\n",
        "from scipy.special import softmax\n",
        "from scipy.spatial.distance import cdist\n",
        "import numpy as np\n",
        "import torch\n",
        "\n",
        "from sklearn.preprocessing import StandardScaler\n",
        "from sklearn.svm import SVC, SVR\n",
        "from sklearn.metrics import classification_report\n",
        "from sklearn.model_selection import KFold, ParameterGrid\n",
        "from sklearn.datasets import make_classification, load_iris\n",
        "from sklearn.model_selection import train_test_split\n",
        "\n",
        "from mlxtend.plotting import plot_decision_regions"
      ],
      "execution_count": null,
      "outputs": []
    },
    {
      "cell_type": "code",
      "metadata": {
        "id": "CJzuwB8DhLXN"
      },
      "source": [
        "import warnings\n",
        "warnings.filterwarnings(\"ignore\")"
      ],
      "execution_count": null,
      "outputs": []
    },
    {
      "cell_type": "markdown",
      "metadata": {
        "id": "_06-JFFQ8EIE"
      },
      "source": [
        "---\n",
        "##Выборка данных \"Balance-Scale Dataset\"\n",
        "\n",
        "*   Предметная область: Классификация состояния весов\n",
        "*   Задача: классифицировать состояния весов\n",
        "*   Классы: 3 - перевес влево, перевес вправо, сбалансированные весы\n",
        "*   Признаки: 4 - вес левой/правой чаши, длина левого/правого плеча весов\n",
        "*   Объекты: 625\n"
      ]
    },
    {
      "cell_type": "markdown",
      "metadata": {
        "id": "MMnL0LRwUWwf"
      },
      "source": [
        "##Метод опорных векторов (SVM)"
      ]
    },
    {
      "cell_type": "code",
      "metadata": {
        "id": "JKKYjkqvRfgV",
        "outputId": "953f6a64-bf89-444e-bbaf-e0aa0dd9929f",
        "colab": {
          "base_uri": "https://localhost:8080/"
        }
      },
      "source": [
        "# Загрузка выборки \n",
        "dataset_dir =\"https://archive.ics.uci.edu/ml/machine-learning-databases/balance-scale/balance-scale.data\"\n",
        "data = pd.read_csv(dataset_dir, names=[\"class\", \"lw\", \"ld\", \"rw\", \"rd\"])\n",
        "\n",
        "#также, как и в пред. лабе, сделал 2 признака из 4х дефолтных:\n",
        "Xl = np.vstack(data['lw'].multiply(data['ld']))\n",
        "Xr = np.vstack(data['rw'].multiply(data['rd']))\n",
        "\n",
        "Y = data['class'].replace(\"L\", 0).replace(\"R\", 1).replace(\"B\", 2)\n",
        "\n",
        "X_train, X_test, Y_train, Y_test = train_test_split(np.hstack([Xl, Xr]), np.hstack([Y]), \n",
        "                                                    test_size=0.2, \n",
        "                                                    random_state=0)\n",
        "#print(len(X_train))"
      ],
      "execution_count": null,
      "outputs": [
        {
          "output_type": "stream",
          "name": "stdout",
          "text": [
            "500\n"
          ]
        }
      ]
    },
    {
      "cell_type": "code",
      "metadata": {
        "colab": {
          "base_uri": "https://localhost:8080/",
          "height": 282
        },
        "id": "N5wE9KhicwYV",
        "outputId": "177436de-040a-4f84-e437-ac7887e67ad3"
      },
      "source": [
        "plt.scatter(Xl, Xr, c=Y)"
      ],
      "execution_count": null,
      "outputs": [
        {
          "output_type": "execute_result",
          "data": {
            "text/plain": [
              "<matplotlib.collections.PathCollection at 0x7f96bfc14c90>"
            ]
          },
          "metadata": {},
          "execution_count": 13
        },
        {
          "output_type": "display_data",
          "data": {
            "image/png": "[encoded data removed]",
            "text/plain": [
              "<Figure size 432x288 with 1 Axes>"
            ]
          },
          "metadata": {
            "needs_background": "light"
          }
        }
      ]
    },
    {
      "cell_type": "code",
      "source": [
        "# Подбор значения гиперпараметра регуляризации C \n",
        "# Я прогнал от 0 до ~30 с интервалом 0.1, увидел, что где-то в 20-30 начались стабильные 1.0 на обучении и контроле\n",
        "# прогнал 20-30 на 0.01, увидел, что на 23+ начинаются единички\n",
        "\n",
        "for i in np.arange(23.001, 23.05, 0.001):\n",
        "  model = SVC(kernel=\"rbf\", C=i)\n",
        "  model.fit(X_train, Y_train)\n",
        "  train_score = model.score(X_train, Y_train)\n",
        "  test_score = model.score(X_test, Y_test)\n",
        "  if train_score == 1 and test_score == 1:\n",
        "    print(i,'\\tTrain: ', train_score, '\\tTest : ', test_score)\n",
        "    #break\n",
        "  "
      ],
      "metadata": {
        "colab": {
          "base_uri": "https://localhost:8080/"
        },
        "id": "7h6kI6w0Krsy",
        "outputId": "7ef5cc0e-c9a2-466d-d73a-4cad71da9693"
      },
      "execution_count": null,
      "outputs": [
        {
          "output_type": "stream",
          "name": "stdout",
          "text": [
            "23.036000000000044 \tTrain:  1.0 \tTest :  1.0\n",
            "23.037000000000045 \tTrain:  1.0 \tTest :  1.0\n",
            "23.038000000000046 \tTrain:  1.0 \tTest :  1.0\n",
            "23.039000000000048 \tTrain:  1.0 \tTest :  1.0\n",
            "23.04100000000005 \tTrain:  1.0 \tTest :  1.0\n",
            "23.04200000000005 \tTrain:  1.0 \tTest :  1.0\n",
            "23.043000000000053 \tTrain:  1.0 \tTest :  1.0\n",
            "23.044000000000054 \tTrain:  1.0 \tTest :  1.0\n",
            "23.045000000000055 \tTrain:  1.0 \tTest :  1.0\n",
            "23.046000000000056 \tTrain:  1.0 \tTest :  1.0\n",
            "23.047000000000057 \tTrain:  1.0 \tTest :  1.0\n",
            "23.04800000000006 \tTrain:  1.0 \tTest :  1.0\n",
            "23.04900000000006 \tTrain:  1.0 \tTest :  1.0\n"
          ]
        }
      ]
    },
    {
      "cell_type": "markdown",
      "source": [
        "Как можно увидеть, при с = 23.036000000000044, достигается ~первые лучшие показатели на обучении и контроле. Далее для удобства было принято c=23.037 как лучшее значение гиперпараметра. (при с =23.036 показатель на обучении не идеален)"
      ],
      "metadata": {
        "id": "tSxjJSSjT089"
      }
    },
    {
      "cell_type": "code",
      "metadata": {
        "colab": {
          "base_uri": "https://localhost:8080/"
        },
        "id": "HgnbQdF4RgSM",
        "outputId": "2cd1e8d0-44af-415a-f624-3761b2c8fb16"
      },
      "source": [
        "# Применение алгоритма классификации\n",
        "model = SVC(kernel=\"rbf\", C=23.037)\n",
        "model.fit(X_train, Y_train)\n",
        "\n",
        "# Accuracy — доля правильных ответов алгоритма\n",
        "print('Train: ', model.score(X_train, Y_train))\n",
        "print('Test : ', model.score(X_test, Y_test))\n",
        "print(classification_report(Y_test, model.predict(X_test)))"
      ],
      "execution_count": null,
      "outputs": [
        {
          "output_type": "stream",
          "name": "stdout",
          "text": [
            "Train:  1.0\n",
            "Test :  1.0\n",
            "              precision    recall  f1-score   support\n",
            "\n",
            "           0       1.00      1.00      1.00        70\n",
            "           1       1.00      1.00      1.00        51\n",
            "           2       1.00      1.00      1.00         4\n",
            "\n",
            "    accuracy                           1.00       125\n",
            "   macro avg       1.00      1.00      1.00       125\n",
            "weighted avg       1.00      1.00      1.00       125\n",
            "\n"
          ]
        }
      ]
    },
    {
      "cell_type": "markdown",
      "metadata": {
        "id": "WgbiCav_ZjrQ"
      },
      "source": [
        "### Зависимость результата от константы C"
      ]
    },
    {
      "cell_type": "code",
      "metadata": {
        "id": "NjLkhzBtW4w1"
      },
      "source": [
        "models = []\n",
        "scores_train = []\n",
        "scores_test = []\n",
        "C_values = list(range(1, 30))\n",
        "for local_C in C_values:\n",
        "    model = SVC(kernel=\"rbf\", C=local_C)\n",
        "    model.fit(X_train, Y_train)\n",
        "    models.append(model)\n",
        "    scores_test.append(model.score(X_test, Y_test))\n",
        "    scores_train.append(model.score(X_train, Y_train))"
      ],
      "execution_count": null,
      "outputs": []
    },
    {
      "cell_type": "code",
      "metadata": {
        "colab": {
          "base_uri": "https://localhost:8080/",
          "height": 265
        },
        "id": "9I5bNwu9XzzX",
        "outputId": "f65e333c-7217-4b6d-aa31-b2a369556050"
      },
      "source": [
        "plt.plot(C_values, scores_train, label='Train')\n",
        "plt.plot(C_values, scores_test, label='Test')\n",
        "\n",
        "plt.legend(loc='best')\n",
        "plt.grid()\n",
        "plt.show()"
      ],
      "execution_count": null,
      "outputs": [
        {
          "output_type": "display_data",
          "data": {
            "image/png": "[encoded data removed]",
            "text/plain": [
              "<Figure size 432x288 with 1 Axes>"
            ]
          },
          "metadata": {
            "needs_background": "light"
          }
        }
      ]
    },
    {
      "cell_type": "markdown",
      "metadata": {
        "id": "uhTZpEclhSxt"
      },
      "source": [
        "Лучшее значение константы C = 23.037\n",
        "\n",
        "Качество на обучающей выборке: 1.0\n",
        "\n",
        "Качество на контрольной выборке: 1.0"
      ]
    },
    {
      "cell_type": "markdown",
      "metadata": {
        "id": "3nrqoFuXaoDO"
      },
      "source": [
        "###Зависимость результата от ядра"
      ]
    },
    {
      "cell_type": "code",
      "metadata": {
        "id": "glPt1KvPZyTJ"
      },
      "source": [
        "models = []\n",
        "scores_train = []\n",
        "scores_test = []\n",
        "kernels = ('linear', 'poly', 'rbf', 'sigmoid')\n",
        "for local_kernel in kernels:\n",
        "    model = SVC(kernel=local_kernel, C=23.037)\n",
        "    model.fit(X_train, Y_train)\n",
        "    models.append(model)\n",
        "    scores_test.append(model.score(X_test, Y_test))\n",
        "    scores_train.append(model.score(X_train, Y_train))"
      ],
      "execution_count": null,
      "outputs": []
    },
    {
      "cell_type": "code",
      "metadata": {
        "colab": {
          "base_uri": "https://localhost:8080/",
          "height": 265
        },
        "id": "5ID88Yg4aPWZ",
        "outputId": "e1517ce0-ea7a-47fa-9566-fdb795eb154e"
      },
      "source": [
        "plt.plot(kernels, scores_train, label='Train')\n",
        "plt.plot(kernels, scores_test, label='Test')\n",
        "\n",
        "plt.legend(loc='best')\n",
        "plt.grid()\n",
        "plt.show()"
      ],
      "execution_count": null,
      "outputs": [
        {
          "output_type": "display_data",
          "data": {
            "image/png": "[encoded data removed]",
            "text/plain": [
              "<Figure size 432x288 with 1 Axes>"
            ]
          },
          "metadata": {
            "needs_background": "light"
          }
        }
      ]
    },
    {
      "cell_type": "markdown",
      "source": [
        "Видно, что ядра linear и rbf лучшие. Рассмотрим только их:"
      ],
      "metadata": {
        "id": "LmAPr5sEVvy3"
      }
    },
    {
      "cell_type": "code",
      "source": [
        "models = []\n",
        "scores_train = []\n",
        "scores_test = []\n",
        "kernels = ('linear', 'rbf')\n",
        "for local_kernel in kernels:\n",
        "    model = SVC(kernel=local_kernel, C=23.037)\n",
        "    model.fit(X_train, Y_train)\n",
        "    models.append(model)\n",
        "    scores_test.append(model.score(X_test, Y_test))\n",
        "    scores_train.append(model.score(X_train, Y_train))\n",
        "\n",
        "plt.plot(kernels, scores_train, label='Train')\n",
        "plt.plot(kernels, scores_test, label='Test')\n",
        "\n",
        "plt.legend(loc='best')\n",
        "plt.grid()\n",
        "plt.show()"
      ],
      "metadata": {
        "colab": {
          "base_uri": "https://localhost:8080/",
          "height": 265
        },
        "id": "jB31BCcfV6tc",
        "outputId": "900adfaa-89ce-499d-be95-9128efc5a8e8"
      },
      "execution_count": null,
      "outputs": [
        {
          "output_type": "display_data",
          "data": {
            "image/png": "[encoded data removed]",
            "text/plain": [
              "<Figure size 432x288 with 1 Axes>"
            ]
          },
          "metadata": {
            "needs_background": "light"
          }
        }
      ]
    },
    {
      "cell_type": "markdown",
      "source": [
        "Они оказались полностью идентичными :/\n",
        "\n",
        "\n"
      ],
      "metadata": {
        "id": "fVTFT6MjWFKf"
      }
    },
    {
      "cell_type": "markdown",
      "metadata": {
        "id": "aNoJTFDkhho9"
      },
      "source": [
        "---\n",
        "# Заключение\n",
        "- Лучшими ядрами являются: linear и rbf\n",
        "(они идентичны, при лучшем значением гиперпараметра c=23.037 они дают лучшие показатели долей правильных ответов == 1.0 на обучении и контроле)\n",
        "\n",
        "- Качество на обучающей выборке: 1.0 при c=23.037\n",
        "\n",
        "- Качество на контрольной выборке: 1.0 при c=23.037"
      ]
    }
  ]
}